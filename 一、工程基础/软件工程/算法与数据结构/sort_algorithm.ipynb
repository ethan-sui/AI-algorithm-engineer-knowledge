{
 "cells": [
  {
   "cell_type": "markdown",
   "metadata": {},
   "source": [
    "## 一、比较类排序"
   ]
  },
  {
   "cell_type": "markdown",
   "metadata": {},
   "source": [
    "### A、交换排序"
   ]
  },
  {
   "cell_type": "markdown",
   "metadata": {},
   "source": [
    "#### a、冒泡排序"
   ]
  },
  {
   "cell_type": "code",
   "execution_count": 3,
   "metadata": {
    "collapsed": true
   },
   "outputs": [],
   "source": [
    "def bubble_sort(List):\n",
    "    n = len(List)\n",
    "    for i in range(n):\n",
    "        for j in range(0, n-i-1):\n",
    "            if List[j] > List[j+1]:\n",
    "                List[j], List[j+1] = List[j+1], List[j]\n",
    "    return List"
   ]
  },
  {
   "cell_type": "code",
   "execution_count": 4,
   "metadata": {},
   "outputs": [
    {
     "name": "stdout",
     "output_type": "stream",
     "text": [
      "[1, 2, 3, 4, 6, 6, 7, 8, 9]\n"
     ]
    }
   ],
   "source": [
    "arr = [1, 6, 9, 8, 2, 6, 7, 4, 3]\n",
    "print(bubble_sort(arr))"
   ]
  },
  {
   "cell_type": "markdown",
   "metadata": {
    "collapsed": true
   },
   "source": [
    "#### b、快速排序"
   ]
  },
  {
   "cell_type": "code",
   "execution_count": 3,
   "metadata": {
    "collapsed": true
   },
   "outputs": [],
   "source": [
    "def partition(List, start, end):\n",
    "    i = start\n",
    "    pivot = List[end]\n",
    "    for j in range(start, end):\n",
    "        if List[j] <= pivot:\n",
    "            List[i], List[j] = List[j], List[i]\n",
    "            i += 1\n",
    "    List[i], List[end] = List[end], List[i]\n",
    "    \n",
    "    return i\n",
    "\n",
    "def quick_sort(List, start, end):\n",
    "    if start < end:\n",
    "        middle = partition(List, start, end)\n",
    "        \n",
    "        quick_sort(List, start, middle-1)\n",
    "        quick_sort(List, middle+1, end)\n",
    "    return List"
   ]
  },
  {
   "cell_type": "code",
   "execution_count": 5,
   "metadata": {},
   "outputs": [
    {
     "name": "stdout",
     "output_type": "stream",
     "text": [
      "[200, 275, 300, 330, 500, 650, 700]\n",
      "330\n"
     ]
    }
   ],
   "source": [
    "arr = [300, 500, 650, 700, 200, 275, 330]\n",
    "n = len(arr)\n",
    "print(quick_sort(arr, 0, n-1))\n",
    "print(quick_sort(arr, 0, n-1)[(n+1)//2 - 1])"
   ]
  },
  {
   "cell_type": "markdown",
   "metadata": {
    "collapsed": true
   },
   "source": [
    "### B、插入排序"
   ]
  },
  {
   "cell_type": "markdown",
   "metadata": {
    "collapsed": true
   },
   "source": [
    "#### a、插入排序"
   ]
  },
  {
   "cell_type": "code",
   "execution_count": 15,
   "metadata": {},
   "outputs": [
    {
     "name": "stdout",
     "output_type": "stream",
     "text": [
      "[1, 3, 4, 5, 6, 7, 8]\n"
     ]
    }
   ],
   "source": [
    "def insertSort(arr):\n",
    "    for i in range(len(arr)):\n",
    "        preIndex = i-1\n",
    "        current = arr[i]\n",
    "        while preIndex >= 0 and arr[preIndex] > current:\n",
    "            arr[preIndex+1] = arr[preIndex]\n",
    "            preIndex -= 1\n",
    "        arr[preIndex+1] = current\n",
    "    return arr\n",
    "arr = [1,5,6,8,4,3,7]\n",
    "print(insertSort(arr))"
   ]
  },
  {
   "cell_type": "markdown",
   "metadata": {},
   "source": [
    "#### b、希尔排序"
   ]
  },
  {
   "cell_type": "markdown",
   "metadata": {},
   "source": [
    "### C、选择排序"
   ]
  },
  {
   "cell_type": "markdown",
   "metadata": {},
   "source": [
    "#### a、选择排序"
   ]
  },
  {
   "cell_type": "code",
   "execution_count": 40,
   "metadata": {},
   "outputs": [
    {
     "name": "stdout",
     "output_type": "stream",
     "text": [
      "[2, 3, 4, 5]\n"
     ]
    }
   ],
   "source": [
    "def selectSort(arr):\n",
    "    for i in range(len(arr)-1):\n",
    "        tmp = i\n",
    "        for j in range(i,len(arr)):\n",
    "            if arr[j] < arr[tmp]:\n",
    "                tmp = j\n",
    "        arr[i],arr[tmp] = arr[tmp],arr[i]\n",
    "    return arr\n",
    "arr = [4,2,5,3]\n",
    "print(selectSort(arr))"
   ]
  },
  {
   "cell_type": "markdown",
   "metadata": {},
   "source": [
    "#### b、堆排序"
   ]
  },
  {
   "cell_type": "markdown",
   "metadata": {
    "collapsed": true
   },
   "source": [
    "### D、归并排序"
   ]
  },
  {
   "cell_type": "code",
   "execution_count": 7,
   "metadata": {},
   "outputs": [
    {
     "name": "stdout",
     "output_type": "stream",
     "text": [
      "[1, 3, 4, 5, 6, 7, 8]\n"
     ]
    }
   ],
   "source": [
    "def merge(arr_left,arr_right):\n",
    "    i = 0\n",
    "    j = 0\n",
    "    res = []\n",
    "    while i < len(arr_left) and j < len(arr_right):\n",
    "        if arr_left[i] < arr_right[j]:\n",
    "            res.append(arr_left[i])\n",
    "            i += 1\n",
    "        else:\n",
    "            res.append(arr_right[j])\n",
    "            j += 1\n",
    "    res += arr_left[i:]\n",
    "    res += arr_right[j:]\n",
    "    return res\n",
    "\n",
    "def mergeSort(arr):\n",
    "    if len(arr) <= 1:\n",
    "        return arr\n",
    "    else:\n",
    "        middle = len(arr) // 2\n",
    "        left = mergeSort(arr[:middle])\n",
    "        right = mergeSort(arr[middle:])\n",
    "    return merge(left,right)\n",
    "\n",
    "arr = [1,5,6,8,4,3,7]\n",
    "print(mergeSort(arr))"
   ]
  },
  {
   "cell_type": "markdown",
   "metadata": {},
   "source": [
    "## 二、非比较类排序"
   ]
  },
  {
   "cell_type": "markdown",
   "metadata": {},
   "source": [
    "### a、计数排序"
   ]
  },
  {
   "cell_type": "code",
   "execution_count": 10,
   "metadata": {},
   "outputs": [
    {
     "name": "stdout",
     "output_type": "stream",
     "text": [
      "[1, 3, 4, 5, 6, 7, 8]\n"
     ]
    }
   ],
   "source": [
    "def countingSort(arr):\n",
    "    count_arr = [0] * (max(arr)+1)\n",
    "    i = 0\n",
    "    for i in arr:\n",
    "        count_arr[i] += 1\n",
    "    for j in rang(len(count_arr)):\n",
    "        while count_arr[j] != 0:\n",
    "            arr[i] = j\n",
    "            i += 1\n",
    "            count_arr -= 1\n",
    "    return arr\n",
    "\n",
    "arr = [1,5,6,8,4,3,7]\n",
    "print(mergeSort(arr))"
   ]
  },
  {
   "cell_type": "markdown",
   "metadata": {
    "collapsed": true
   },
   "source": [
    "### b、桶排序"
   ]
  },
  {
   "cell_type": "markdown",
   "metadata": {},
   "source": [
    "###  c、基数排序"
   ]
  },
  {
   "cell_type": "code",
   "execution_count": null,
   "metadata": {},
   "outputs": [],
   "source": []
  }
 ],
 "metadata": {
  "kernelspec": {
   "display_name": "Python 3",
   "language": "python",
   "name": "python3"
  },
  "language_info": {
   "codemirror_mode": {
    "name": "ipython",
    "version": 3
   },
   "file_extension": ".py",
   "mimetype": "text/x-python",
   "name": "python",
   "nbconvert_exporter": "python",
   "pygments_lexer": "ipython3",
   "version": "3.7.6"
  }
 },
 "nbformat": 4,
 "nbformat_minor": 2
}

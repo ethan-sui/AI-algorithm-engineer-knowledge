{
 "cells": [
  {
   "cell_type": "markdown",
   "metadata": {},
   "source": [
    "Numpy是使用python进行科学计算的基本软件包，它包含以下内容：\n",
    "\n",
    "1、强大的N维数组\n",
    "\n",
    "2、复杂的(广播)功能\n",
    "\n",
    "3、继承C/C++和fortran代码的工具\n",
    "\n",
    "4、有用的线性代数、傅里叶变换和随机数功能"
   ]
  },
  {
   "cell_type": "code",
   "execution_count": 1,
   "metadata": {},
   "outputs": [],
   "source": [
    "import numpy as np"
   ]
  },
  {
   "cell_type": "markdown",
   "metadata": {},
   "source": [
    "## A、NumPy的ndarray:一种多维数组对象"
   ]
  },
  {
   "cell_type": "markdown",
   "metadata": {},
   "source": [
    "&emsp;&emsp;ndarray，数组，该对象是一个快速而灵活的大数据集容器，可以利用这种数组对整块数据执行一些数学运算，其语法跟标量元素之间的运算一样，ndarray所有元素必须是相同类型的，其基本属性有：\n",
    "\n",
    "1、ndim：维度\n",
    "\n",
    "2、shape：各维度大小(元组)\n",
    "\n",
    "3、size：元素个数\n",
    "\n",
    "4、dtype：数据类型"
   ]
  },
  {
   "cell_type": "markdown",
   "metadata": {},
   "source": [
    "### a、创建数组"
   ]
  },
  {
   "cell_type": "markdown",
   "metadata": {},
   "source": [
    "- array:将python对象(list/tuple)转化为数组"
   ]
  },
  {
   "cell_type": "code",
   "execution_count": 2,
   "metadata": {},
   "outputs": [
    {
     "name": "stdout",
     "output_type": "stream",
     "text": [
      "[[0, 1, 2, 3], [0, 1, 2, 3]]\n",
      "[[0 1 2 3]\n",
      " [0 1 2 3]]\n",
      "2\n",
      "(2, 4)\n"
     ]
    }
   ],
   "source": [
    "list_0 = list(range(4))\n",
    "list_1 = [list_0] * 2\n",
    "print(list_1)\n",
    "arr_0 = np.array(list_1)\n",
    "print(arr_0)\n",
    "print(arr_0.ndim)\n",
    "print(arr_0.shape)"
   ]
  },
  {
   "cell_type": "markdown",
   "metadata": {},
   "source": [
    "- np.array会尝试为新建的数组推断出一个较为合适的数据类型，数据类型保存在一个特殊的dtype对象中"
   ]
  },
  {
   "cell_type": "code",
   "execution_count": 3,
   "metadata": {},
   "outputs": [
    {
     "name": "stdout",
     "output_type": "stream",
     "text": [
      "float64\n"
     ]
    }
   ],
   "source": [
    "list_2 = [1, 3, 1.5]\n",
    "arr_1 = np.array(list_2)\n",
    "print(arr_1.dtype)"
   ]
  },
  {
   "cell_type": "markdown",
   "metadata": {},
   "source": [
    "- empty()：分配指定大小的数组，未初始化 ，随机填充值(元组形式输入shape)"
   ]
  },
  {
   "cell_type": "code",
   "execution_count": 4,
   "metadata": {},
   "outputs": [
    {
     "name": "stdout",
     "output_type": "stream",
     "text": [
      "[[2.57852713e-153 3.65582216e+233]\n",
      " [1.90715801e+228 5.42050460e+102]]\n"
     ]
    }
   ],
   "source": [
    "print(np.empty((2,2)))"
   ]
  },
  {
   "cell_type": "markdown",
   "metadata": {},
   "source": [
    "- zeros(), ones()：创建全为0或1的数组"
   ]
  },
  {
   "cell_type": "code",
   "execution_count": 5,
   "metadata": {},
   "outputs": [
    {
     "name": "stdout",
     "output_type": "stream",
     "text": [
      "[[0. 0. 0.]\n",
      " [0. 0. 0.]]\n",
      "[[1. 1.]\n",
      " [1. 1.]]\n"
     ]
    }
   ],
   "source": [
    "arr_0s = np.zeros((2,3))\n",
    "arr_1s = np.ones((2,2))\n",
    "print(arr_0s)\n",
    "print(arr_1s)"
   ]
  },
  {
   "cell_type": "markdown",
   "metadata": {},
   "source": [
    "- ones_like(),zeros_like()：根据指定的形状和type，创建全1、全0的数组"
   ]
  },
  {
   "cell_type": "markdown",
   "metadata": {},
   "source": [
    "- eye(),diag()：创建对角矩阵"
   ]
  },
  {
   "cell_type": "markdown",
   "metadata": {},
   "source": [
    "- arange()：通过开始值、终值和步长创建一维数组"
   ]
  },
  {
   "cell_type": "markdown",
   "metadata": {},
   "source": [
    "- linspace()：通过开始值、终值和元素个数创建一维数组"
   ]
  },
  {
   "cell_type": "markdown",
   "metadata": {},
   "source": [
    "- logspace()：同上，但创建等比数列"
   ]
  },
  {
   "cell_type": "markdown",
   "metadata": {},
   "source": [
    "### b、ndarray的数据类型"
   ]
  },
  {
   "cell_type": "markdown",
   "metadata": {},
   "source": [
    "ndarry基本数据类型"
   ]
  },
  {
   "cell_type": "code",
   "execution_count": 6,
   "metadata": {},
   "outputs": [
    {
     "name": "stdout",
     "output_type": "stream",
     "text": [
      "{<class 'numpy.uint32'>, <class 'numpy.str_'>, <class 'numpy.datetime64'>, <class 'numpy.float32'>, <class 'numpy.bool_'>, <class 'numpy.float64'>, <class 'numpy.clongdouble'>, <class 'numpy.float16'>, <class 'numpy.bytes_'>, <class 'numpy.uint16'>, <class 'numpy.complex64'>, <class 'numpy.complex128'>, <class 'numpy.timedelta64'>, <class 'numpy.int32'>, <class 'numpy.uint8'>, <class 'numpy.longdouble'>, <class 'numpy.void'>, <class 'numpy.int64'>, <class 'numpy.uintc'>, <class 'numpy.object_'>, <class 'numpy.int8'>, <class 'numpy.intc'>, <class 'numpy.uint64'>, <class 'numpy.int16'>}\n"
     ]
    }
   ],
   "source": [
    "print(set(np.typeDict.values()))"
   ]
  },
  {
   "cell_type": "markdown",
   "metadata": {},
   "source": [
    "指定数据类型--dtype"
   ]
  },
  {
   "cell_type": "code",
   "execution_count": 7,
   "metadata": {},
   "outputs": [
    {
     "data": {
      "text/plain": [
       "array([0.+0.j, 1.+0.j, 2.+0.j, 3.+0.j, 4.+0.j, 5.+0.j, 6.+0.j, 7.+0.j,\n",
       "       8.+0.j, 9.+0.j], dtype=complex64)"
      ]
     },
     "execution_count": 7,
     "metadata": {},
     "output_type": "execute_result"
    }
   ],
   "source": [
    "np.array(range(10),dtype = 'c8')"
   ]
  },
  {
   "cell_type": "code",
   "execution_count": 8,
   "metadata": {},
   "outputs": [
    {
     "data": {
      "text/plain": [
       "array([0., 1., 2., 3., 4., 5., 6., 7., 8., 9.], dtype=float32)"
      ]
     },
     "execution_count": 8,
     "metadata": {},
     "output_type": "execute_result"
    }
   ],
   "source": [
    "np.array(range(10),dtype = 'f4')"
   ]
  },
  {
   "cell_type": "code",
   "execution_count": 9,
   "metadata": {},
   "outputs": [
    {
     "data": {
      "text/plain": [
       "array([-1,  0,  1,  2,  3], dtype=int8)"
      ]
     },
     "execution_count": 9,
     "metadata": {},
     "output_type": "execute_result"
    }
   ],
   "source": [
    "np.array(range(255,260), dtype = 'i1')"
   ]
  },
  {
   "cell_type": "code",
   "execution_count": 10,
   "metadata": {},
   "outputs": [
    {
     "data": {
      "text/plain": [
       "array([255, 256, 257, 258, 259], dtype=int16)"
      ]
     },
     "execution_count": 10,
     "metadata": {},
     "output_type": "execute_result"
    }
   ],
   "source": [
    "np.array(range(255,260), dtype = 'i2')"
   ]
  },
  {
   "cell_type": "markdown",
   "metadata": {},
   "source": [
    "转换数据类型--arr.astype(dtype)"
   ]
  },
  {
   "cell_type": "code",
   "execution_count": 11,
   "metadata": {},
   "outputs": [
    {
     "name": "stdout",
     "output_type": "stream",
     "text": [
      "[0 1 2 3 4] int32\n",
      "[0. 1. 2. 3. 4.] float64\n"
     ]
    }
   ],
   "source": [
    "arr_4 = np.array(range(5))\n",
    "print(arr_4,arr_4.dtype)\n",
    "float_arr4 = arr_4.astype('f8')\n",
    "print(float_arr4,float_arr4.dtype)"
   ]
  },
  {
   "cell_type": "markdown",
   "metadata": {},
   "source": [
    "将浮点数转换成整数，则小数部分将会被截取删除"
   ]
  },
  {
   "cell_type": "code",
   "execution_count": 12,
   "metadata": {},
   "outputs": [
    {
     "name": "stdout",
     "output_type": "stream",
     "text": [
      "[0.  1.1 2.2 3.3 4.4] float64\n",
      "[0 1 2 3 4] int32\n"
     ]
    }
   ],
   "source": [
    "arr_5 = arr_4 + arr_4/10\n",
    "print(arr_5,arr_5.dtype)\n",
    "int_arr5 = arr_5.astype('i4')\n",
    "print(int_arr5, int_arr5.dtype)"
   ]
  },
  {
   "cell_type": "markdown",
   "metadata": {},
   "source": [
    "如果某字符串数组表示的全是数字，也可以用astype将其转换为数值形式"
   ]
  },
  {
   "cell_type": "code",
   "execution_count": 13,
   "metadata": {},
   "outputs": [
    {
     "name": "stdout",
     "output_type": "stream",
     "text": [
      "[b'1.25' b'-9.6' b'42'] |S4\n",
      "[ 1.25 -9.6  42.  ] float64\n"
     ]
    }
   ],
   "source": [
    "arr_strs = np.array(['1.25', '-9.6', '42'], dtype=np.string_)\n",
    "print(arr_strs,arr_strs.dtype)\n",
    "float_arr_strs = arr_strs.astype(float)\n",
    "print(float_arr_strs,float_arr_strs.dtype)"
   ]
  },
  {
   "cell_type": "markdown",
   "metadata": {},
   "source": [
    "### c、数组形状操作"
   ]
  },
  {
   "cell_type": "markdown",
   "metadata": {},
   "source": [
    "- 使用reshape，有返回值"
   ]
  },
  {
   "cell_type": "code",
   "execution_count": 14,
   "metadata": {},
   "outputs": [
    {
     "name": "stdout",
     "output_type": "stream",
     "text": [
      "[0 1 2 3 4 5 6 7 8]\n",
      "[[0 1 2]\n",
      " [3 4 5]\n",
      " [6 7 8]]\n"
     ]
    }
   ],
   "source": [
    "arr_5 = np.array(range(9))\n",
    "print(arr_5)\n",
    "reshape_arr5 = arr_5.reshape((3,3))\n",
    "print(reshape_arr5)"
   ]
  },
  {
   "cell_type": "markdown",
   "metadata": {},
   "source": [
    "&emsp;&emsp;这里改变arr_5的值，reshape_arr5的值也会跟着变，反过来改变reshape_arr5的值，arr_5同样也跟着变"
   ]
  },
  {
   "cell_type": "code",
   "execution_count": 15,
   "metadata": {},
   "outputs": [
    {
     "name": "stdout",
     "output_type": "stream",
     "text": [
      "arr_5:\n",
      " [99  1  2  3  4  5  6  7  8]\n",
      "reshape_arr5:\n",
      " [[99  1  2]\n",
      " [ 3  4  5]\n",
      " [ 6  7  8]]\n"
     ]
    }
   ],
   "source": [
    "arr_5[0] = 99\n",
    "print('arr_5:\\n',arr_5)\n",
    "print('reshape_arr5:\\n',reshape_arr5)"
   ]
  },
  {
   "cell_type": "markdown",
   "metadata": {},
   "source": [
    "&emsp;&emsp;-1代表的维度的取值需要根据数组的长度和其他维度来共同确认"
   ]
  },
  {
   "cell_type": "code",
   "execution_count": 16,
   "metadata": {},
   "outputs": [
    {
     "data": {
      "text/plain": [
       "array([[99,  1,  2],\n",
       "       [ 3,  4,  5],\n",
       "       [ 6,  7,  8]])"
      ]
     },
     "execution_count": 16,
     "metadata": {},
     "output_type": "execute_result"
    }
   ],
   "source": [
    "reshape_arr5.reshape((-1,3))"
   ]
  },
  {
   "cell_type": "markdown",
   "metadata": {},
   "source": [
    "- shape 数组本身改变"
   ]
  },
  {
   "cell_type": "code",
   "execution_count": 17,
   "metadata": {},
   "outputs": [
    {
     "name": "stdout",
     "output_type": "stream",
     "text": [
      "[0 1 2 3 4 5 6 7 8]\n",
      "[[0 1 2]\n",
      " [3 4 5]\n",
      " [6 7 8]]\n"
     ]
    }
   ],
   "source": [
    "arr_5 = np.array(range(9))\n",
    "print(arr_5)\n",
    "arr_5.shape = (3,3)\n",
    "print(arr_5)"
   ]
  },
  {
   "cell_type": "markdown",
   "metadata": {},
   "source": [
    "- 使用resize，但是没有返回值"
   ]
  },
  {
   "cell_type": "code",
   "execution_count": 18,
   "metadata": {},
   "outputs": [
    {
     "name": "stdout",
     "output_type": "stream",
     "text": [
      "arr_5:\n",
      " [0 1 2 3 4 5 6 7 8]\n",
      "resize_arr5:\n",
      " None\n"
     ]
    }
   ],
   "source": [
    "arr_5 = np.array(range(9))\n",
    "print('arr_5:\\n',arr_5)\n",
    "resize_arr5 = arr_5.resize(3,3)\n",
    "print('resize_arr5:\\n',resize_arr5)"
   ]
  },
  {
   "cell_type": "markdown",
   "metadata": {},
   "source": [
    "- ravel 扁平化"
   ]
  },
  {
   "cell_type": "markdown",
   "metadata": {},
   "source": [
    "同样，改变arr_5也会改变revel_arr5，反之亦然"
   ]
  },
  {
   "cell_type": "code",
   "execution_count": 19,
   "metadata": {},
   "outputs": [
    {
     "name": "stdout",
     "output_type": "stream",
     "text": [
      "arr_5:\n",
      " [[0 1 2]\n",
      " [3 4 5]\n",
      " [6 7 8]]\n",
      "ravel_arr5:\n",
      " [0 1 2 3 4 5 6 7 8]\n"
     ]
    }
   ],
   "source": [
    "arr_5 = np.array(range(9))\n",
    "arr_5.shape = (3,3)\n",
    "print('arr_5:\\n',arr_5)\n",
    "ravel_arr5 = arr_5.ravel()\n",
    "print('ravel_arr5:\\n', ravel_arr5)"
   ]
  },
  {
   "cell_type": "markdown",
   "metadata": {},
   "source": [
    "flatten 扁平化"
   ]
  },
  {
   "cell_type": "code",
   "execution_count": 20,
   "metadata": {},
   "outputs": [],
   "source": [
    "#跟ravel的作用一样，但不同的是新创建出来的数组与原数组改变时，互不影响\n",
    "flatten_arr5 = arr_5.flatten()"
   ]
  },
  {
   "cell_type": "markdown",
   "metadata": {},
   "source": [
    "### d、NunPy数组的运算"
   ]
  },
  {
   "cell_type": "code",
   "execution_count": 21,
   "metadata": {},
   "outputs": [
    {
     "name": "stdout",
     "output_type": "stream",
     "text": [
      "arr_5:\n",
      " [[0 1 2]\n",
      " [3 4 5]\n",
      " [6 7 8]]\n",
      "arr_5 * arr_5:\n",
      " [[ 0  1  4]\n",
      " [ 9 16 25]\n",
      " [36 49 64]]\n"
     ]
    }
   ],
   "source": [
    "arr_5 = np.array(range(9))\n",
    "arr_5.shape = (3,3)\n",
    "print('arr_5:\\n',arr_5)\n",
    "print('arr_5 * arr_5:\\n',arr_5 * arr_5)"
   ]
  },
  {
   "cell_type": "markdown",
   "metadata": {},
   "source": [
    "- 数组与标量的算术运算会将标量值传播到各个元素 + - * / // % **"
   ]
  },
  {
   "cell_type": "code",
   "execution_count": 22,
   "metadata": {},
   "outputs": [
    {
     "name": "stdout",
     "output_type": "stream",
     "text": [
      "arr_5:\n",
      " [[0 1 2]\n",
      " [3 4 5]\n",
      " [6 7 8]]\n",
      "arr_5+3:\n",
      " [[ 3  4  5]\n",
      " [ 6  7  8]\n",
      " [ 9 10 11]]\n"
     ]
    }
   ],
   "source": [
    "arr_5 = np.array(range(9))\n",
    "arr_5.shape = (3,3)\n",
    "print('arr_5:\\n',arr_5)\n",
    "print('arr_5+3:\\n',arr_5+3)"
   ]
  },
  {
   "cell_type": "markdown",
   "metadata": {},
   "source": [
    "- shape相同的数组之间的比较会生成布尔值数组"
   ]
  },
  {
   "cell_type": "code",
   "execution_count": 23,
   "metadata": {},
   "outputs": [
    {
     "name": "stdout",
     "output_type": "stream",
     "text": [
      "arr_5:\n",
      " [[0 1 2]\n",
      " [3 4 5]\n",
      " [6 7 8]]\n",
      "arr_5%3:\n",
      " [[0 1 2]\n",
      " [0 1 2]\n",
      " [0 1 2]]\n",
      "判断arr_5 == arr_5%3:\n",
      " [[ True  True  True]\n",
      " [False False False]\n",
      " [False False False]]\n"
     ]
    }
   ],
   "source": [
    "arr_5 = np.array(range(9))\n",
    "arr_5.shape = (3,3)\n",
    "print('arr_5:\\n',arr_5)\n",
    "print('arr_5%3:\\n',arr_5%3)\n",
    "print('判断arr_5 == arr_5%3:\\n',arr_5 == arr_5%3)"
   ]
  },
  {
   "cell_type": "markdown",
   "metadata": {},
   "source": [
    "### e、数组的广播(broadcast)"
   ]
  },
  {
   "cell_type": "markdown",
   "metadata": {},
   "source": [
    "&emsp;&emsp;如果两个数组的维数不同，则元素到元素的操作是不可能的，但是在NumPy中仍然可以对形状不相似的数组进行操作，因为它拥有广播功能\n",
    "\n",
    "&emsp;&emsp;较小的数组会广播到较大数组的大小，以便使它们的形状可兼容\n",
    "\n",
    "&emsp;&emsp;一定要注意，执行broadcast的前提在于，两个ndarray执行的是element-wise(按位加，按位减)的运算，而不是矩阵乘法的运算，矩阵乘法运算时需要维度之间严格匹配\n",
    "\n",
    "&emsp;&emsp;另外，当操作两个array时，numpy会逐个比较他们的shape(构成的元组tuple)，只有在下述情况下，两arrays才算兼容：\n",
    "\n",
    "&emsp;&emsp;1、相等\n",
    "\n",
    "&emsp;&emsp;2、其中一个为1，进而可进行拷贝拓展已至shape匹配"
   ]
  },
  {
   "cell_type": "markdown",
   "metadata": {},
   "source": [
    "- Broadcast(光播)的规则：\n",
    "\n",
    "&emsp;&emsp;1、让所有输入数组都向其中shape最长的数组看齐，shape中不足的部分都通过在前面加1补齐\n",
    "\n",
    "&emsp;&emsp;2、输出数组的shape是输入数组shape的各个轴上的最大值\n",
    "\n",
    "&emsp;&emsp;3、如果输入数组的某个轴和输出数组的对应轴的长度相同或者其长度为1时，这个数组能够用来计算，否则出错\n",
    "\n",
    "&emsp;&emsp;4、当输入数组的某个轴的长度为1时，沿着此轴运算时都用此轴上的第一组值"
   ]
  },
  {
   "cell_type": "markdown",
   "metadata": {},
   "source": [
    "![](https://img-blog.csdnimg.cn/20200707120420257.png?x-oss-process=image/watermark,type_ZmFuZ3poZW5naGVpdGk,shadow_10,text_aHR0cHM6Ly9ibG9nLmNzZG4ubmV0L2V0aGFuX3N1aQ==,size_16,color_FFFFFF,t_70)"
   ]
  },
  {
   "cell_type": "code",
   "execution_count": 24,
   "metadata": {},
   "outputs": [
    {
     "name": "stdout",
     "output_type": "stream",
     "text": [
      "数组a：\n",
      " [[ 0.  0.  0.]\n",
      " [10. 10. 10.]\n",
      " [20. 20. 20.]\n",
      " [30. 30. 30.]]\n",
      "数组b：\n",
      " [1. 2. 3.]\n",
      "数组a加数组b：\n",
      " [[ 1.  2.  3.]\n",
      " [11. 12. 13.]\n",
      " [21. 22. 23.]\n",
      " [31. 32. 33.]]\n"
     ]
    }
   ],
   "source": [
    "a = np.array([[0.0,0.0,0.0],[10.0,10.0,10.0],[20.0,20.0,20.0],[30.0,30.0,30.0]]) \n",
    "b = np.array([1.0,2.0,3.0],)  \n",
    "print ('数组a：\\n',a)  \n",
    "print ('数组b：\\n',b)  \n",
    "print ('数组a加数组b：\\n',a+b)  "
   ]
  },
  {
   "cell_type": "markdown",
   "metadata": {},
   "source": [
    "### f、索引和切片"
   ]
  },
  {
   "cell_type": "markdown",
   "metadata": {},
   "source": [
    "- 一维数组：类似列表；\n",
    "\n",
    "&emsp;&emsp;跟列表最重要的区别在于，数组切片是原始数组的视图。这意味着数据不会被复制，视图上的任何修改都会直接反映到源数组上"
   ]
  },
  {
   "cell_type": "code",
   "execution_count": 25,
   "metadata": {},
   "outputs": [
    {
     "name": "stdout",
     "output_type": "stream",
     "text": [
      "arr:\n",
      " [0 1 2 3 4 5 6 7 8 9]\n",
      "arr_alice:\n",
      " [3 4 5]\n",
      "ls:\n",
      " [0, 1, 2, 3, 4, 5, 6, 7, 8, 9]\n",
      "ls_slice:\n",
      " [3, 4, 5]\n"
     ]
    }
   ],
   "source": [
    "#numpy\n",
    "arr = np.array(range(10))\n",
    "arr_slice = arr[3:6]\n",
    "print('arr:\\n',arr)\n",
    "print('arr_alice:\\n',arr_slice)\n",
    "#列表\n",
    "ls = list(range(10))\n",
    "ls_slice = ls[3:6]\n",
    "print('ls:\\n',ls)\n",
    "print('ls_slice:\\n',ls_slice)"
   ]
  },
  {
   "cell_type": "code",
   "execution_count": 26,
   "metadata": {},
   "outputs": [
    {
     "name": "stdout",
     "output_type": "stream",
     "text": [
      "arr:\n",
      " [    0     1     2 12345     4     5     6     7     8     9]\n",
      "arr_alice:\n",
      " [12345     4     5]\n",
      "ls:\n",
      " [0, 1, 2, 3, 4, 5, 6, 7, 8, 9]\n",
      "ls_slice:\n",
      " [12345, 4, 5]\n"
     ]
    }
   ],
   "source": [
    "arr_slice[0]= 12345\n",
    "ls_slice[0] = 12345\n",
    "print('arr:\\n',arr)\n",
    "print('arr_alice:\\n',arr_slice)\n",
    "print('ls:\\n',ls)\n",
    "print('ls_slice:\\n',ls_slice)"
   ]
  },
  {
   "cell_type": "markdown",
   "metadata": {},
   "source": [
    "&emsp;&emsp;切片[ : ]会给数组中的所有值赋值："
   ]
  },
  {
   "cell_type": "code",
   "execution_count": 27,
   "metadata": {},
   "outputs": [
    {
     "name": "stdout",
     "output_type": "stream",
     "text": [
      "arr:\n",
      " [0 1 2 0 0 0 6 7 8 9]\n",
      "arr_alice:\n",
      " [0 0 0]\n"
     ]
    }
   ],
   "source": [
    "arr_slice[:] = 0\n",
    "print('arr:\\n',arr)\n",
    "print('arr_alice:\\n',arr_slice)"
   ]
  },
  {
   "cell_type": "markdown",
   "metadata": {},
   "source": [
    "- 如果想要得到的是ndarray切片的一份副本，就需要进行复制操作copy()"
   ]
  },
  {
   "cell_type": "code",
   "execution_count": 28,
   "metadata": {},
   "outputs": [
    {
     "name": "stdout",
     "output_type": "stream",
     "text": [
      "arr:\n",
      " [0 1 2 3 4 5 6 7 8 9]\n",
      "arr_alice:\n",
      " [3 4 5]\n",
      "arr:\n",
      " [0 1 2 3 4 5 6 7 8 9]\n",
      "arr_alice:\n",
      " [0 0 0]\n"
     ]
    }
   ],
   "source": [
    "arr = np.array(range(10))\n",
    "arr_slice = arr[3:6].copy()\n",
    "print('arr:\\n',arr)\n",
    "print('arr_alice:\\n',arr_slice)\n",
    "arr_slice[:] = 0\n",
    "print('arr:\\n',arr)\n",
    "print('arr_alice:\\n',arr_slice)"
   ]
  },
  {
   "cell_type": "markdown",
   "metadata": {},
   "source": [
    "- 高维度数组:索引位置上的元素不再是标量而是一维数组"
   ]
  },
  {
   "cell_type": "code",
   "execution_count": 29,
   "metadata": {},
   "outputs": [
    {
     "name": "stdout",
     "output_type": "stream",
     "text": [
      "[2 3 4]\n"
     ]
    }
   ],
   "source": [
    "ls = [list(range(5)),list(range(5,10))]\n",
    "arr = np.array(ls)\n",
    "print(arr[0,2:])"
   ]
  },
  {
   "cell_type": "markdown",
   "metadata": {},
   "source": [
    "&emsp;&emsp;在多维数组中，如果省略了后面的索引，则返回对象会是一个维度低一点的ndarray"
   ]
  },
  {
   "cell_type": "code",
   "execution_count": 30,
   "metadata": {},
   "outputs": [
    {
     "name": "stdout",
     "output_type": "stream",
     "text": [
      "[[[ 1  2  3]\n",
      "  [ 4  5  6]]\n",
      "\n",
      " [[ 7  8  9]\n",
      "  [10 11 12]]]\n",
      "[[1 2 3]\n",
      " [4 5 6]]\n",
      "[1 2 3]\n",
      "1\n"
     ]
    }
   ],
   "source": [
    "arr3d = np.array([[[1, 2, 3], [4, 5, 6]], [[7, 8, 9], [10, 11, 12]]])\n",
    "print(arr3d)\n",
    "arr3d.shape\n",
    "print(arr3d[0])\n",
    "print(arr3d[0,0])\n",
    "print(arr3d[0,0,0])"
   ]
  },
  {
   "cell_type": "markdown",
   "metadata": {},
   "source": [
    "&emsp;&emsp;标量值和数组都可以被赋值给数组"
   ]
  },
  {
   "cell_type": "code",
   "execution_count": 31,
   "metadata": {},
   "outputs": [
    {
     "name": "stdout",
     "output_type": "stream",
     "text": [
      "[[[42 42 42]\n",
      "  [42 42 42]]\n",
      "\n",
      " [[ 7  8  9]\n",
      "  [10 11 12]]]\n",
      "===========分割线============\n",
      "[[[ 1  2  3]\n",
      "  [ 4  5  6]]\n",
      "\n",
      " [[ 7  8  9]\n",
      "  [10 11 12]]]\n"
     ]
    }
   ],
   "source": [
    "#将arr3d[0]的数据进行备份\n",
    "old_values = arr3d[0].copy()\n",
    "#修改arr3d[0]的值为42\n",
    "arr3d[0] = 42\n",
    "print(arr3d)\n",
    "print('===========分割线============')\n",
    "arr3d[0] = old_values\n",
    "print(arr3d)"
   ]
  },
  {
   "cell_type": "markdown",
   "metadata": {},
   "source": [
    "### g、布尔型索引"
   ]
  },
  {
   "cell_type": "code",
   "execution_count": 32,
   "metadata": {},
   "outputs": [
    {
     "name": "stdout",
     "output_type": "stream",
     "text": [
      "['a' 'b' 'c' 'd' 'e' 'f' 'g']\n",
      "[[-0.83465086 -1.27787728 -0.51001631  2.41875101]\n",
      " [ 2.17527665 -0.52984727  1.47737271  0.28094732]\n",
      " [-1.44985725 -0.2244756   0.11118387  0.29820382]\n",
      " [-0.53790567 -0.85073711  0.73907333 -0.51115543]\n",
      " [ 0.26454058 -0.07179769  0.74058098 -0.54208441]\n",
      " [-0.14139365  0.7875561   1.29168203  0.76889649]\n",
      " [ 1.28923189  0.73338458 -0.20791892 -0.7944734 ]]\n"
     ]
    }
   ],
   "source": [
    "strs = np.array(['a', 'b', 'c', 'd', 'e', 'f', 'g'])\n",
    "data = np.random.randn(7, 4) #随机形成7*4的数组\n",
    "print(strs)\n",
    "print(data)"
   ]
  },
  {
   "cell_type": "markdown",
   "metadata": {},
   "source": [
    "假设每个字母都对应data数组中的一行，如何选出对应于字母'a'的所有行？"
   ]
  },
  {
   "cell_type": "code",
   "execution_count": 33,
   "metadata": {},
   "outputs": [
    {
     "name": "stdout",
     "output_type": "stream",
     "text": [
      "[ True False False False False False False]\n",
      "[[-0.83465086 -1.27787728 -0.51001631  2.41875101]]\n",
      "[[-0.51001631  2.41875101]]\n"
     ]
    }
   ],
   "source": [
    "print(strs == 'a')\n",
    "print(data[strs == 'a'])\n",
    "print(data[strs == 'a',2:])"
   ]
  },
  {
   "cell_type": "markdown",
   "metadata": {},
   "source": [
    "要选择'a'以外的其他值，既可以使用不等于符号（!=），也可以通过~对条件进行否定"
   ]
  },
  {
   "cell_type": "code",
   "execution_count": 34,
   "metadata": {},
   "outputs": [
    {
     "name": "stdout",
     "output_type": "stream",
     "text": [
      "[False  True  True  True  True  True  True]\n",
      "[[ 2.17527665 -0.52984727  1.47737271  0.28094732]\n",
      " [-1.44985725 -0.2244756   0.11118387  0.29820382]\n",
      " [-0.53790567 -0.85073711  0.73907333 -0.51115543]\n",
      " [ 0.26454058 -0.07179769  0.74058098 -0.54208441]\n",
      " [-0.14139365  0.7875561   1.29168203  0.76889649]\n",
      " [ 1.28923189  0.73338458 -0.20791892 -0.7944734 ]]\n"
     ]
    }
   ],
   "source": [
    "print(strs != 'a')\n",
    "print(data[~(strs == 'a')])"
   ]
  },
  {
   "cell_type": "markdown",
   "metadata": {},
   "source": [
    "### h、数组转置和轴对换"
   ]
  },
  {
   "cell_type": "markdown",
   "metadata": {},
   "source": [
    "- T:转置/轴反转；transpose：轴对换"
   ]
  },
  {
   "cell_type": "code",
   "execution_count": 35,
   "metadata": {},
   "outputs": [
    {
     "name": "stdout",
     "output_type": "stream",
     "text": [
      "arr:\n",
      " [[ 0  1  2  3  4]\n",
      " [ 5  6  7  8  9]\n",
      " [10 11 12 13 14]]\n",
      "arr.T:\n",
      " [[ 0  5 10]\n",
      " [ 1  6 11]\n",
      " [ 2  7 12]\n",
      " [ 3  8 13]\n",
      " [ 4  9 14]]\n",
      "arr.transpose((1,0)):\n",
      " [[ 0  5 10]\n",
      " [ 1  6 11]\n",
      " [ 2  7 12]\n",
      " [ 3  8 13]\n",
      " [ 4  9 14]]\n"
     ]
    }
   ],
   "source": [
    "arr = np.arange(15).reshape((3, 5))\n",
    "print('arr:\\n',arr)\n",
    "print('arr.T:\\n',arr.T)\n",
    "#这里transpose实际上是对shape按索引进行一次重新排序\n",
    "print('arr.transpose((1,0)):\\n',arr.transpose((1,0)))"
   ]
  },
  {
   "cell_type": "markdown",
   "metadata": {},
   "source": [
    "- 在进行矩阵计算时，经常需要用到该操作，比如利用np.dot计算矩阵内积"
   ]
  },
  {
   "cell_type": "code",
   "execution_count": 36,
   "metadata": {},
   "outputs": [
    {
     "name": "stdout",
     "output_type": "stream",
     "text": [
      "arr:\n",
      " [[-0.03639147  0.03334443  1.06274595]\n",
      " [ 1.09286955  1.24727318  0.45421852]\n",
      " [ 1.17253527 -0.63438282 -0.98472476]\n",
      " [ 1.10618344 -0.04062933 -1.63255198]\n",
      " [-0.06988777  0.42234757  1.45186422]\n",
      " [ 0.49643496  0.74685638  0.19555217]]\n",
      "dot_arr:\n",
      " [[ 4.04550093  0.91436237 -2.5071884 ]\n",
      " [ 0.91436237  2.69706647  2.05223392]\n",
      " [-2.5071884   2.05223392  7.11680258]]\n"
     ]
    }
   ],
   "source": [
    "arr = np.random.randn(6, 3)\n",
    "print ('arr:\\n',arr)\n",
    "print ('dot_arr:\\n',np.dot(arr.T, arr))"
   ]
  },
  {
   "cell_type": "markdown",
   "metadata": {},
   "source": [
    "- 对于高维数组，转置需要得到一个由轴编号组成的元组才能对这些轴进行转置"
   ]
  },
  {
   "cell_type": "code",
   "execution_count": 37,
   "metadata": {},
   "outputs": [
    {
     "name": "stdout",
     "output_type": "stream",
     "text": [
      "[[[ 0  1  2  3]\n",
      "  [ 4  5  6  7]]\n",
      "\n",
      " [[ 8  9 10 11]\n",
      "  [12 13 14 15]]]\n",
      "========================\n",
      "[[[ 0  1  2  3]\n",
      "  [ 8  9 10 11]]\n",
      "\n",
      " [[ 4  5  6  7]\n",
      "  [12 13 14 15]]]\n",
      "========================\n",
      "arr_T:\n",
      " [[[ 0  8]\n",
      "  [ 4 12]]\n",
      "\n",
      " [[ 1  9]\n",
      "  [ 5 13]]\n",
      "\n",
      " [[ 2 10]\n",
      "  [ 6 14]]\n",
      "\n",
      " [[ 3 11]\n",
      "  [ 7 15]]]\n"
     ]
    }
   ],
   "source": [
    "arr = np.arange(16).reshape((2, 2, 4))\n",
    "print(arr)\n",
    "print('========================')\n",
    "print(arr.transpose((1, 0, 2)))\n",
    "print('========================')\n",
    "print('arr_T:\\n',arr.T)"
   ]
  },
  {
   "cell_type": "markdown",
   "metadata": {},
   "source": [
    "## B、通用函数"
   ]
  },
  {
   "cell_type": "markdown",
   "metadata": {},
   "source": [
    "### a、一元函数"
   ]
  },
  {
   "cell_type": "markdown",
   "metadata": {},
   "source": [
    "- numpy.mean(a,axis,dtype,out,keepdims)\n",
    "\n",
    "&emsp;&emsp;求矩阵的平均值，默认对全部元素求均值，常用到的参数是axis，对于m×n矩阵\n",
    "\n",
    "&emsp;&emsp;axis=0：压缩行，对各列求均值，返回1×n矩阵\n",
    "\n",
    "&emsp;&emsp;axis=1：压缩列，对各行求均值，返回m×1矩阵"
   ]
  },
  {
   "cell_type": "code",
   "execution_count": 38,
   "metadata": {},
   "outputs": [
    {
     "ename": "NameError",
     "evalue": "name 'img' is not defined",
     "output_type": "error",
     "traceback": [
      "\u001b[1;31m---------------------------------------------------------------------------\u001b[0m",
      "\u001b[1;31mNameError\u001b[0m                                 Traceback (most recent call last)",
      "\u001b[1;32m<ipython-input-38-9842b74aa0b7>\u001b[0m in \u001b[0;36m<module>\u001b[1;34m\u001b[0m\n\u001b[1;32m----> 1\u001b[1;33m \u001b[0mnp\u001b[0m\u001b[1;33m.\u001b[0m\u001b[0mmean\u001b[0m\u001b[1;33m(\u001b[0m\u001b[0mimg\u001b[0m\u001b[1;33m)\u001b[0m\u001b[1;33m\u001b[0m\u001b[1;33m\u001b[0m\u001b[0m\n\u001b[0m\u001b[0;32m      2\u001b[0m \u001b[0mnp\u001b[0m\u001b[1;33m.\u001b[0m\u001b[0mmean\u001b[0m\u001b[1;33m(\u001b[0m\u001b[0mimg\u001b[0m\u001b[1;33m,\u001b[0m\u001b[0maxis\u001b[0m\u001b[1;33m=\u001b[0m\u001b[1;36m0\u001b[0m\u001b[1;33m)\u001b[0m   \u001b[1;31m#得到一列数组\u001b[0m\u001b[1;33m\u001b[0m\u001b[1;33m\u001b[0m\u001b[0m\n\u001b[0;32m      3\u001b[0m \u001b[0mnp\u001b[0m\u001b[1;33m.\u001b[0m\u001b[0mmean\u001b[0m\u001b[1;33m(\u001b[0m\u001b[0mimg\u001b[0m\u001b[1;33m,\u001b[0m\u001b[0maxis\u001b[0m\u001b[1;33m=\u001b[0m\u001b[1;36m1\u001b[0m\u001b[1;33m)\u001b[0m   \u001b[1;31m#得到一列数组\u001b[0m\u001b[1;33m\u001b[0m\u001b[1;33m\u001b[0m\u001b[0m\n",
      "\u001b[1;31mNameError\u001b[0m: name 'img' is not defined"
     ]
    }
   ],
   "source": [
    "np.mean(img)\n",
    "np.mean(img,axis=0)   #得到一列数组\n",
    "np.mean(img,axis=1)   #得到一列数组"
   ]
  },
  {
   "cell_type": "markdown",
   "metadata": {},
   "source": [
    "### b、二元函数"
   ]
  },
  {
   "cell_type": "markdown",
   "metadata": {},
   "source": [
    "add&emsp;&emsp;&emsp;&emsp;&emsp;&emsp;&emsp;&emsp;&emsp;将数组中对应的元素相加\n",
    "\n",
    "subtract&emsp;&emsp;&emsp;&emsp;&emsp;&emsp;&emsp;从第一个数组中减去第二个数组中的元素\n",
    "\n",
    "multiply&emsp;&emsp;&emsp;&emsp;&emsp;&emsp;&emsp;数组元素相乘\n",
    "\n",
    "divide、floor_divide&emsp;&emsp;除法或向下圆整除法(丢弃余数)\n",
    "\n",
    "power&emsp;&emsp;&emsp;&emsp;&emsp;&emsp;&emsp;&emsp;对第一个数组中的元素A，根据第二个数组中的相应元素B，计算$A^{B}$\n",
    "\n",
    "maximun、fmax&emsp;&emsp;&emsp;元素级的最大值计算，fmax将忽略NaN\n",
    "\n",
    "minimun、fmin&emsp;&emsp;&emsp;&emsp;元素级的最小值计算，fmin将忽略NaN\n",
    "\n",
    "mod&emsp;&emsp;&emsp;&emsp;&emsp;&emsp;&emsp;&emsp;元素级的求模计算(除法的余数)\n",
    "\n",
    "copysign&emsp;&emsp;&emsp;&emsp;&emsp;&emsp;将第二个数组中的值的符号复制给第一个数组中的值"
   ]
  },
  {
   "cell_type": "code",
   "execution_count": 39,
   "metadata": {},
   "outputs": [
    {
     "name": "stdout",
     "output_type": "stream",
     "text": [
      "[0 1 2 3 4 5 6 7 8 9]\n",
      "[0.         1.         1.41421356 1.73205081 2.         2.23606798\n",
      " 2.44948974 2.64575131 2.82842712 3.        ]\n"
     ]
    }
   ],
   "source": [
    "arr = np.arange(10)\n",
    "print(arr)\n",
    "print(np.sqrt(arr))"
   ]
  },
  {
   "cell_type": "code",
   "execution_count": 40,
   "metadata": {},
   "outputs": [
    {
     "name": "stdout",
     "output_type": "stream",
     "text": [
      "x:\n",
      " [-0.09476804 -0.4390103   2.35547178  1.28894316  0.64369071 -0.80132451\n",
      " -0.44045717  0.66369581]\n",
      "y:\n",
      " [ 0.2492311   1.00317467  0.49696152  1.47914244  0.75315035  2.17297982\n",
      " -0.71667503 -0.68108174]\n",
      "[ 0.2492311   1.00317467  2.35547178  1.47914244  0.75315035  2.17297982\n",
      " -0.44045717  0.66369581]\n"
     ]
    }
   ],
   "source": [
    "x = np.random.randn(8)\n",
    "y = np.random.randn(8)\n",
    "print('x:\\n',x)\n",
    "print('y:\\n',y)\n",
    "print(np.maximum(x, y))"
   ]
  },
  {
   "cell_type": "markdown",
   "metadata": {},
   "source": [
    "## C、利用数组进行数据处理"
   ]
  },
  {
   "cell_type": "markdown",
   "metadata": {},
   "source": [
    "- 想要在一组值（网格型）上计算$sqrt(x^2+y^2)$"
   ]
  },
  {
   "cell_type": "code",
   "execution_count": 41,
   "metadata": {},
   "outputs": [
    {
     "name": "stdout",
     "output_type": "stream",
     "text": [
      "[[-5.   -4.99 -4.98 ...  4.97  4.98  4.99]\n",
      " [-5.   -4.99 -4.98 ...  4.97  4.98  4.99]\n",
      " [-5.   -4.99 -4.98 ...  4.97  4.98  4.99]\n",
      " ...\n",
      " [-5.   -4.99 -4.98 ...  4.97  4.98  4.99]\n",
      " [-5.   -4.99 -4.98 ...  4.97  4.98  4.99]\n",
      " [-5.   -4.99 -4.98 ...  4.97  4.98  4.99]]\n",
      "[[-5.   -5.   -5.   ... -5.   -5.   -5.  ]\n",
      " [-4.99 -4.99 -4.99 ... -4.99 -4.99 -4.99]\n",
      " [-4.98 -4.98 -4.98 ... -4.98 -4.98 -4.98]\n",
      " ...\n",
      " [ 4.97  4.97  4.97 ...  4.97  4.97  4.97]\n",
      " [ 4.98  4.98  4.98 ...  4.98  4.98  4.98]\n",
      " [ 4.99  4.99  4.99 ...  4.99  4.99  4.99]]\n"
     ]
    }
   ],
   "source": [
    "points = np.arange(-5, 5, 0.01) \n",
    "xs, ys = np.meshgrid(points, points) #生成网格型数据，接受两个一维数组生成两个二维矩阵\n",
    "print(xs)\n",
    "print(ys)"
   ]
  },
  {
   "cell_type": "code",
   "execution_count": 42,
   "metadata": {},
   "outputs": [
    {
     "name": "stdout",
     "output_type": "stream",
     "text": [
      "[[7.07106781 7.06400028 7.05693985 ... 7.04988652 7.05693985 7.06400028]\n",
      " [7.06400028 7.05692568 7.04985815 ... 7.04279774 7.04985815 7.05692568]\n",
      " [7.05693985 7.04985815 7.04278354 ... 7.03571603 7.04278354 7.04985815]\n",
      " ...\n",
      " [7.04988652 7.04279774 7.03571603 ... 7.0286414  7.03571603 7.04279774]\n",
      " [7.05693985 7.04985815 7.04278354 ... 7.03571603 7.04278354 7.04985815]\n",
      " [7.06400028 7.05692568 7.04985815 ... 7.04279774 7.04985815 7.05692568]]\n"
     ]
    }
   ],
   "source": [
    "z = np.sqrt(xs ** 2 + ys ** 2)\n",
    "print(z)"
   ]
  },
  {
   "cell_type": "markdown",
   "metadata": {},
   "source": [
    "### a、将条件逻辑表述为数组运算"
   ]
  },
  {
   "cell_type": "markdown",
   "metadata": {},
   "source": [
    "- numpy.where函数是三元表达式x if condition else y的矢量化版本"
   ]
  },
  {
   "cell_type": "code",
   "execution_count": 43,
   "metadata": {},
   "outputs": [
    {
     "name": "stdout",
     "output_type": "stream",
     "text": [
      "[1.1, 2.2, 1.3, 1.4, 2.5]\n"
     ]
    }
   ],
   "source": [
    "xarr = np.array([1.1, 1.2, 1.3, 1.4, 1.5])\n",
    "yarr = np.array([2.1, 2.2, 2.3, 2.4, 2.5])\n",
    "cond = np.array([True, False, True, True, False])\n",
    "result = []\n",
    "for x,y,c in zip(xarr,yarr,cond):\n",
    "    if c:\n",
    "        result.append(x)\n",
    "    else:\n",
    "        result.append(y)\n",
    "print(result)"
   ]
  },
  {
   "cell_type": "code",
   "execution_count": 44,
   "metadata": {},
   "outputs": [
    {
     "name": "stdout",
     "output_type": "stream",
     "text": [
      "[1.1 2.2 1.3 1.4 2.5]\n"
     ]
    }
   ],
   "source": [
    "res = np.where(cond, xarr, yarr)\n",
    "print(res)"
   ]
  },
  {
   "cell_type": "markdown",
   "metadata": {},
   "source": [
    "- np.where的第二个和第三个参数不必是数组，它们都可以是标量值，在数据分析工作中，where通常用于根据另一个数组而产生一个新的数组"
   ]
  },
  {
   "cell_type": "code",
   "execution_count": 45,
   "metadata": {},
   "outputs": [
    {
     "name": "stdout",
     "output_type": "stream",
     "text": [
      "[[-1.81668402 -0.32714892 -0.50240853  1.69106912]\n",
      " [ 0.72009791 -1.47156531  1.24668108  1.34052254]\n",
      " [-0.78139547 -1.36113385  0.91108993 -0.27149964]\n",
      " [ 0.36843724 -1.19984479 -1.25139307  1.87820799]]\n",
      "[[False False False  True]\n",
      " [ True False  True  True]\n",
      " [False False  True False]\n",
      " [ True False False  True]]\n",
      "[['-2' '-2' '-2' 'a']\n",
      " ['a' '-2' 'a' 'a']\n",
      " ['-2' '-2' 'a' '-2']\n",
      " ['a' '-2' '-2' 'a']]\n"
     ]
    }
   ],
   "source": [
    "arr = np.random.randn(4, 4)\n",
    "print(arr)\n",
    "print(arr > 0)\n",
    "print(np.where(arr > 0, 'a', -2))"
   ]
  },
  {
   "cell_type": "markdown",
   "metadata": {},
   "source": [
    "- 使用np.where，可以将标量和数组结合起来"
   ]
  },
  {
   "cell_type": "code",
   "execution_count": 46,
   "metadata": {},
   "outputs": [
    {
     "name": "stdout",
     "output_type": "stream",
     "text": [
      "[[-1.81668402 -0.32714892 -0.50240853  2.        ]\n",
      " [ 2.         -1.47156531  2.          2.        ]\n",
      " [-0.78139547 -1.36113385  2.         -0.27149964]\n",
      " [ 2.         -1.19984479 -1.25139307  2.        ]]\n"
     ]
    }
   ],
   "source": [
    "print(np.where(arr > 0, 2, arr))"
   ]
  },
  {
   "cell_type": "markdown",
   "metadata": {},
   "source": [
    "### b、数学和统计方法"
   ]
  },
  {
   "cell_type": "markdown",
   "metadata": {},
   "source": [
    "- 通过数组上的一组数学函数对整个数组或某个轴向的数据进行统计计算 求和、平均值、方差、标准差、中位数：sum, mean/average, var, std, median"
   ]
  },
  {
   "cell_type": "code",
   "execution_count": 47,
   "metadata": {},
   "outputs": [
    {
     "name": "stdout",
     "output_type": "stream",
     "text": [
      "[[-1.02272785  1.27663543 -0.07950701  0.83892515]\n",
      " [ 1.18900529  0.35364187 -0.5323723   0.56423139]\n",
      " [-1.09662314 -0.79940913  0.51397248  1.75210494]\n",
      " [-1.04503524 -0.3560857   1.76369929 -0.53401448]\n",
      " [ 1.18201555  0.89293936  1.11614984  0.26912984]]\n",
      "0.3123337791584581\n",
      "0.3123337791584581\n",
      "6.2466755831691625\n"
     ]
    }
   ],
   "source": [
    "arr = np.random.randn(5, 4)\n",
    "print(arr)\n",
    "print(arr.mean())\n",
    "print(np.mean(arr))\n",
    "print(arr.sum())"
   ]
  },
  {
   "cell_type": "markdown",
   "metadata": {},
   "source": [
    "axis选项参数，用于计算该轴向上的统计值；\n",
    "arr.mean(1)是“计算行的平均值”，arr.sum(0)是“计算每列的和”"
   ]
  },
  {
   "cell_type": "code",
   "execution_count": 48,
   "metadata": {},
   "outputs": [
    {
     "name": "stdout",
     "output_type": "stream",
     "text": [
      "[ 0.25333143  0.39362656  0.09251129 -0.04285903  0.86505865]\n",
      "[-0.79336539  1.36772183  2.7819423   2.89037684]\n"
     ]
    }
   ],
   "source": [
    "print(arr.mean(axis=1))\n",
    "print(arr.sum(axis=0))"
   ]
  },
  {
   "cell_type": "markdown",
   "metadata": {},
   "source": [
    "统计>0的数目"
   ]
  },
  {
   "cell_type": "code",
   "execution_count": 49,
   "metadata": {},
   "outputs": [
    {
     "name": "stdout",
     "output_type": "stream",
     "text": [
      "[-0.0764376  -0.54542412 -0.27931919 -0.93439966  0.12029507 -0.37201413\n",
      " -1.29973903  0.24258585 -0.65981127 -1.3395075 ]\n",
      "2\n"
     ]
    }
   ],
   "source": [
    "arr = np.random.randn(10)\n",
    "print(arr)\n",
    "print((arr > 0).sum())"
   ]
  },
  {
   "cell_type": "markdown",
   "metadata": {},
   "source": [
    "### c、排序"
   ]
  },
  {
   "cell_type": "markdown",
   "metadata": {},
   "source": [
    "- numpy.sort() \n",
    "sort(a, axis=-1, kind=None, order=None) Return a sorted copy of an array."
   ]
  },
  {
   "cell_type": "code",
   "execution_count": 50,
   "metadata": {},
   "outputs": [
    {
     "name": "stdout",
     "output_type": "stream",
     "text": [
      "a:\n",
      " [[3 7]\n",
      " [9 1]]\n",
      "*********\n",
      "[[3 7]\n",
      " [1 9]]\n",
      "*********\n",
      "[[3 1]\n",
      " [9 7]]\n",
      "**********\n",
      "a:\n",
      " [(b'raju', 21) (b'anil', 25) (b'ravi', 17) (b'amar', 27)]\n",
      "***********\n",
      "[(b'ravi', 17) (b'raju', 21) (b'anil', 25) (b'amar', 27)]\n"
     ]
    }
   ],
   "source": [
    "a = np.array([[3,7],[9,1]])  \n",
    "print ('a:\\n',a)  \n",
    "print('*********')\n",
    "print (np.sort(a))  \n",
    "print ('*********')   \n",
    "print (np.sort(a, axis =  0))  \n",
    "print ('**********')  \n",
    "\n",
    "dt = np.dtype([('name',  'S10'),('age',  int)]) \n",
    "a = np.array([(\"raju\",21),(\"anil\",25),(\"ravi\",  17),  (\"amar\",27)], dtype = dt)  \n",
    "print ('a:\\n',a) \n",
    "print('***********')\n",
    "print (np.sort(a, order =  'age'))"
   ]
  },
  {
   "cell_type": "markdown",
   "metadata": {},
   "source": [
    "- numpy.argsort()，返回数据的索引数组"
   ]
  },
  {
   "cell_type": "code",
   "execution_count": 51,
   "metadata": {},
   "outputs": [
    {
     "name": "stdout",
     "output_type": "stream",
     "text": [
      "[[ 1.43717136  0.51309306  1.01945272]\n",
      " [-0.88213612  0.51086454  0.91558802]\n",
      " [ 0.31494581  0.28032312 -2.35875583]\n",
      " [ 1.4963596   1.36913517  0.0870144 ]\n",
      " [-0.83011219 -0.25489486 -0.0722478 ]]\n",
      "***********\n",
      "[[ 0.51309306  1.01945272  1.43717136]\n",
      " [-0.88213612  0.51086454  0.91558802]\n",
      " [-2.35875583  0.28032312  0.31494581]\n",
      " [ 0.0870144   1.36913517  1.4963596 ]\n",
      " [-0.83011219 -0.25489486 -0.0722478 ]]\n"
     ]
    }
   ],
   "source": [
    "arr = np.random.randn(5, 3)\n",
    "print(arr)\n",
    "print('***********')\n",
    "arr.sort(1)\n",
    "print(arr)"
   ]
  },
  {
   "cell_type": "code",
   "execution_count": 52,
   "metadata": {},
   "outputs": [
    {
     "name": "stdout",
     "output_type": "stream",
     "text": [
      "[[-0.36012471 -0.5048014   0.2001038 ]\n",
      " [-0.12252047 -1.34966004  0.82703408]\n",
      " [ 0.36593307 -1.22877002 -2.41871743]\n",
      " [-1.16192156 -0.35772076 -0.7161501 ]\n",
      " [-1.82663848  1.84794211 -0.36283925]]\n",
      "***********\n"
     ]
    },
    {
     "data": {
      "text/plain": [
       "array([[1, 0, 2],\n",
       "       [1, 0, 2],\n",
       "       [2, 1, 0],\n",
       "       [0, 2, 1],\n",
       "       [0, 2, 1]], dtype=int64)"
      ]
     },
     "execution_count": 52,
     "metadata": {},
     "output_type": "execute_result"
    }
   ],
   "source": [
    "arr = np.random.randn(5, 3)\n",
    "print(arr)\n",
    "print('***********')\n",
    "arr.argsort(1)"
   ]
  },
  {
   "cell_type": "markdown",
   "metadata": {},
   "source": [
    "## D、伪随机数生成"
   ]
  },
  {
   "cell_type": "markdown",
   "metadata": {},
   "source": [
    "&emsp;&emsp;生成标准正态分布"
   ]
  },
  {
   "cell_type": "code",
   "execution_count": 53,
   "metadata": {},
   "outputs": [
    {
     "name": "stdout",
     "output_type": "stream",
     "text": [
      "[[ 0.75908564 -1.16874767  2.98900479 -1.44867231]\n",
      " [ 1.11298209 -0.11290985 -1.46326403  0.64564298]\n",
      " [ 1.09840509  2.73620765  1.0560674   1.20523352]\n",
      " [-0.66345081  0.64460531 -0.28215549 -0.45954517]]\n"
     ]
    }
   ],
   "source": [
    "samples = np.random.normal(size=(4, 4))\n",
    "print(samples)"
   ]
  },
  {
   "cell_type": "markdown",
   "metadata": {},
   "source": [
    "- python randam模块一次生成一个样本"
   ]
  },
  {
   "cell_type": "code",
   "execution_count": 54,
   "metadata": {},
   "outputs": [
    {
     "name": "stdout",
     "output_type": "stream",
     "text": [
      "746 ms ± 40.3 ms per loop (mean ± std. dev. of 7 runs, 1 loop each)\n",
      "25.6 ms ± 184 µs per loop (mean ± std. dev. of 7 runs, 10 loops each)\n"
     ]
    }
   ],
   "source": [
    "from random import normalvariate\n",
    "N = 1000000\n",
    "%timeit samples = [normalvariate(0, 1) for _ in range(N)]\n",
    "%timeit np.random.normal(size=N)"
   ]
  },
  {
   "cell_type": "code",
   "execution_count": null,
   "metadata": {},
   "outputs": [],
   "source": []
  }
 ],
 "metadata": {
  "kernelspec": {
   "display_name": "Python 3",
   "language": "python",
   "name": "python3"
  },
  "language_info": {
   "codemirror_mode": {
    "name": "ipython",
    "version": 3
   },
   "file_extension": ".py",
   "mimetype": "text/x-python",
   "name": "python",
   "nbconvert_exporter": "python",
   "pygments_lexer": "ipython3",
   "version": "3.7.6"
  }
 },
 "nbformat": 4,
 "nbformat_minor": 2
}

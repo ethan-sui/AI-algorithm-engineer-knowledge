{
 "cells": [
  {
   "cell_type": "markdown",
   "metadata": {},
   "source": [
    "## 1、函数定义"
   ]
  },
  {
   "cell_type": "code",
   "execution_count": null,
   "metadata": {},
   "outputs": [],
   "source": [
    "def 函数名(形式参数):\n",
    "    \"函数文档字符串\"\n",
    "    函数内容\n",
    "    return 返回值"
   ]
  },
  {
   "cell_type": "markdown",
   "metadata": {},
   "source": [
    "## 2、函数调用"
   ]
  },
  {
   "cell_type": "markdown",
   "metadata": {},
   "source": [
    "函数名(参数)"
   ]
  },
  {
   "cell_type": "markdown",
   "metadata": {},
   "source": [
    "## 3、参数传递"
   ]
  },
  {
   "cell_type": "markdown",
   "metadata": {},
   "source": [
    "### a、可变对象和不可变对象"
   ]
  },
  {
   "cell_type": "markdown",
   "metadata": {},
   "source": [
    "- 不可变参数\n",
    "\n",
    "如数字、字符串、元组是不可更改的对象，比如变量赋值a=5后再赋值a=10，这里实际是新生成一个int值对象10，再让a指向它，而5被丢弃，不是改变a的值，相当于新生成了a\n",
    "\n",
    "所以不可变对象传递的只是其值，没有影响其对象本身，在函数内部修改其值，只是修改另一个复制的对象，不会影响其本身"
   ]
  },
  {
   "cell_type": "code",
   "execution_count": null,
   "metadata": {},
   "outputs": [],
   "source": [
    "def ChangeInt(a):\n",
    "    a = 10\n",
    "b=2\n",
    "ChangeInt(b)\n",
    "print(b)"
   ]
  },
  {
   "cell_type": "markdown",
   "metadata": {},
   "source": [
    "- 可变对象"
   ]
  },
  {
   "cell_type": "markdown",
   "metadata": {},
   "source": [
    "如列表、字典则是可以修改的对象。变量赋值a=[1,2,3,4]后再赋值a[2]=5则是将list a的第三个元素值更改，本身a没有动，只是其内部的一部分值被修改了\n",
    "\n",
    "所以可变对象的传递则是将a真正的传过去，修改后fun外部的a也会受影响"
   ]
  },
  {
   "cell_type": "code",
   "execution_count": null,
   "metadata": {},
   "outputs": [],
   "source": [
    "def ChangeMe(arr):\n",
    "    arr.append([1,2,3,4])\n",
    "    print(\"函数内取值：\", arr)\n",
    "    return\n",
    "\n",
    "arr = [10, 20, 30]\n",
    "ChangeMe(arr)\n",
    "print(\"函数外取值：\", arr)"
   ]
  },
  {
   "cell_type": "markdown",
   "metadata": {},
   "source": [
    "### b、参数"
   ]
  },
  {
   "cell_type": "markdown",
   "metadata": {},
   "source": [
    "讨论的是以怎么一种形式的传参"
   ]
  },
  {
   "cell_type": "markdown",
   "metadata": {},
   "source": [
    "- 必备参数\n",
    "\n",
    "必备参数必须以正确的顺序传入函数，调用时的数量必须严格和声明时的一样"
   ]
  },
  {
   "cell_type": "code",
   "execution_count": null,
   "metadata": {},
   "outputs": [],
   "source": [
    "def Print(str):\n",
    "    print(str)\n",
    "    return\n",
    "Print(\"s\")"
   ]
  },
  {
   "cell_type": "markdown",
   "metadata": {},
   "source": [
    "- 关键字参数"
   ]
  },
  {
   "cell_type": "markdown",
   "metadata": {},
   "source": [
    "使用关键字参数允许函数调用时，参数的顺序与声明时不一致，因为python解释器能够用参数名匹配参数值"
   ]
  },
  {
   "cell_type": "code",
   "execution_count": null,
   "metadata": {},
   "outputs": [],
   "source": [
    "def Print(str):\n",
    "    print(str)\n",
    "    return\n",
    "Print(str = \"test\")"
   ]
  },
  {
   "cell_type": "markdown",
   "metadata": {},
   "source": [
    "- 默认参数\n",
    "\n",
    "调用函数时，默认参数的值如果没有传入，则被认为是默认值。下例会打印默认的age，如果age没有被传入"
   ]
  },
  {
   "cell_type": "code",
   "execution_count": null,
   "metadata": {},
   "outputs": [],
   "source": [
    "def Print(name, age = 35):\n",
    "    print(\"name:\", name)\n",
    "    print(\"age:\", age)\n",
    "    return\n",
    "Print(age=50, name=\"ethan\")\n",
    "Print(name=\"ethan\")"
   ]
  },
  {
   "cell_type": "markdown",
   "metadata": {},
   "source": [
    "- 不定长参数\n",
    "\n",
    "加了星号(\\*)的变量名湖存放所有未命名的变量参数"
   ]
  },
  {
   "cell_type": "code",
   "execution_count": null,
   "metadata": {},
   "outputs": [],
   "source": [
    "def Print(arg1, *vartuple):\n",
    "    print(\"输出:\", arg1)\n",
    "    for var in vartuple:\n",
    "        print(var)\n",
    "    return\n",
    "Print(10)\n",
    "Print(70,80,90)"
   ]
  },
  {
   "cell_type": "markdown",
   "metadata": {},
   "source": [
    "### c、匿名函数"
   ]
  },
  {
   "cell_type": "markdown",
   "metadata": {},
   "source": [
    "&emsp;&emsp;匿名函数就是没有名字的函数，是一种简单的、在同一行中定义函数的方法。只允许包含一个表达式，不能包含复杂语句，该表达式的运算结果就是函数的返回值。\n",
    "\n",
    "&emsp;&emsp;lambda表达式的基本语法如下：\n",
    "\n",
    "&emsp;&emsp;&emsp;&emsp;&emsp;&emsp;lambda x1,x2,x3… :<表达式>\n",
    "\n",
    "&emsp;&emsp;x1,x2,x3为函数的参数(函数输入)，表达式相当于函数体，运算结果是表达式的运算结果。\n",
    "\n",
    "#### 用法：\n",
    "\n",
    "- 将lambda函数赋值给一个变量\n",
    "- 作为函数的参数,比如：\n",
    "\n",
    "```\n",
    "#1、将列表[1, 2, 3]中能够被3整除的元素过滤出来，其结果是[3]\n",
    "filter(lambda x: x % 3 == 0, [1, 2, 3])  \n",
    "\n",
    "#2、将列表[1, 2, 3, 4, 5, 6, 7, 8, 9]按照元素与5距离从小到大进行排序，其结果是[5, 4, 6, 3, 7, 2, 8, 1, 9]\n",
    "sorted([1, 2, 3, 4, 5, 6, 7, 8, 9], key=lambda x: abs(5-x))\n",
    "\n",
    "#3、将列表[1, 2, 3]中的元素分别加1，其结果[2, 3, 4]\n",
    "map(lambda x: x+1,[1, 2, 3]) \n",
    "```"
   ]
  },
  {
   "cell_type": "markdown",
   "metadata": {},
   "source": [
    "### d、return 语句"
   ]
  },
  {
   "cell_type": "markdown",
   "metadata": {},
   "source": [
    "return语句 [表达式]退出函数，选择性的向调用方返回一个表达式。不带参数值的return语句返回None"
   ]
  },
  {
   "cell_type": "markdown",
   "metadata": {},
   "source": [
    "### e、变量作用域\n",
    "\n",
    "- 局部变量\n",
    "\n",
    "只能在其被声明的函数内部访问"
   ]
  },
  {
   "cell_type": "markdown",
   "metadata": {},
   "source": [
    "- 全局变量\n",
    "\n",
    "在函数/循环体外定义，也可以在内部使用global变量名定义，就可以在整个程序范围内访问"
   ]
  },
  {
   "cell_type": "code",
   "execution_count": null,
   "metadata": {},
   "outputs": [],
   "source": [
    "def main():\n",
    "    global a\n",
    "    a = 5"
   ]
  },
  {
   "cell_type": "code",
   "execution_count": null,
   "metadata": {},
   "outputs": [],
   "source": []
  }
 ],
 "metadata": {
  "kernelspec": {
   "display_name": "Python 3",
   "language": "python",
   "name": "python3"
  },
  "language_info": {
   "codemirror_mode": {
    "name": "ipython",
    "version": 3
   },
   "file_extension": ".py",
   "mimetype": "text/x-python",
   "name": "python",
   "nbconvert_exporter": "python",
   "pygments_lexer": "ipython3",
   "version": "3.7.6"
  }
 },
 "nbformat": 4,
 "nbformat_minor": 4
}
